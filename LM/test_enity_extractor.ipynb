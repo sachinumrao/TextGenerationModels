{
 "metadata": {
  "language_info": {
   "codemirror_mode": {
    "name": "ipython",
    "version": 3
   },
   "file_extension": ".py",
   "mimetype": "text/x-python",
   "name": "python",
   "nbconvert_exporter": "python",
   "pygments_lexer": "ipython3",
   "version": "3.7.9-final"
  },
  "orig_nbformat": 2,
  "kernelspec": {
   "name": "Python 3.7.9 64-bit ('torch': conda)",
   "display_name": "Python 3.7.9 64-bit ('torch': conda)",
   "metadata": {
    "interpreter": {
     "hash": "16766f77513c2dc3046cc19b80562909bfa145c129483c5120135906580f6c71"
    }
   }
  }
 },
 "nbformat": 4,
 "nbformat_minor": 2,
 "cells": [
  {
   "cell_type": "code",
   "execution_count": 1,
   "metadata": {},
   "outputs": [],
   "source": [
    "from entity_extractor import EntityExtractor\n",
    "import pathlib"
   ]
  },
  {
   "cell_type": "code",
   "execution_count": 2,
   "metadata": {},
   "outputs": [],
   "source": [
    "corpus_file =  pathlib.Path.home().joinpath('Data', 'LM_Data', 'test_sentences.pkl')\n",
    "output_file = pathlib.Path.home().joinpath('Data', 'LM_Data', 'test_triplets.csv')\n",
    "entity_file = pathlib.Path.home().joinpath('Data', 'LM_Data', 'test_entities.txt')\n"
   ]
  },
  {
   "cell_type": "code",
   "execution_count": 3,
   "metadata": {},
   "outputs": [],
   "source": [
    "entity_finder = EntityExtractor(corpus_file, \n",
    "                                output_file)\n",
    "\n"
   ]
  },
  {
   "cell_type": "code",
   "execution_count": 4,
   "metadata": {},
   "outputs": [],
   "source": [
    "entity_finder.load_sentence_corpus()"
   ]
  },
  {
   "cell_type": "code",
   "execution_count": 5,
   "metadata": {},
   "outputs": [
    {
     "output_type": "execute_result",
     "data": {
      "text/plain": [
       "[]"
      ]
     },
     "metadata": {},
     "execution_count": 5
    }
   ],
   "source": [
    "entity_finder.raw_triplets"
   ]
  },
  {
   "cell_type": "code",
   "execution_count": 6,
   "metadata": {},
   "outputs": [
    {
     "output_type": "stream",
     "name": "stderr",
     "text": [
      "Factifying:: 100%|██████████| 11/11 [00:00<00:00, 51.23it/s]\n"
     ]
    }
   ],
   "source": [
    "entity_finder.find_fact_triplets()"
   ]
  },
  {
   "cell_type": "code",
   "execution_count": 7,
   "metadata": {},
   "outputs": [
    {
     "output_type": "execute_result",
     "data": {
      "text/plain": [
       "[('windows', 'theorize', 'possibility'),\n",
       " ('it', 'cite', 'resources'),\n",
       " ('device', 'say', 'android'),\n",
       " ('os', 'be', 'change'),\n",
       " ('i', 'suggest', 'windows')]"
      ]
     },
     "metadata": {},
     "execution_count": 7
    }
   ],
   "source": [
    "entity_finder.raw_triplets"
   ]
  },
  {
   "cell_type": "code",
   "execution_count": 10,
   "metadata": {},
   "outputs": [
    {
     "output_type": "execute_result",
     "data": {
      "text/plain": [
       "['Many technology pundits have been theorizing and discussing the possibility of Windows eventually becoming a Linux-based operating system.',\n",
       " 'They cite the fact that Microsoft has become less dependent on Windows for revenue, making it silly to dedicate so many resources to it.',\n",
       " 'Not to mention, Microsoft has certainly cozied up to both the Linux and open source communities nowadays.',\n",
       " 'Do I think Microsoft will make this move one day?',\n",
       " 'Who knows.']"
      ]
     },
     "metadata": {},
     "execution_count": 10
    }
   ],
   "source": [
    "entity_finder.sentences[:5]"
   ]
  },
  {
   "cell_type": "code",
   "execution_count": 13,
   "metadata": {},
   "outputs": [],
   "source": [
    "import spacy\n",
    "nlp = spacy.load('en_core_web_sm')"
   ]
  },
  {
   "cell_type": "code",
   "execution_count": 15,
   "metadata": {},
   "outputs": [],
   "source": [
    "sent1 = \"I shot an elephant\"\n",
    "sent2 = \"Voldemort killed professor Dumblodore on the top of Astronomy Tower.\"\n",
    "sent3 = \"Mr. Malfoy looked angrily at Dobby and then stormed off the Dumbledore's chamber.\"\n",
    "\n",
    "sent4 = \"Who killed Dumbledore?\"\n",
    "sent5 = \"Dumbledore Had a phoenix.\"\n",
    "sent6= \"What did Dumbledore had as portkey?\"\n",
    "\n",
    "sent7 = \"Dumbledore is the winner of MagicDaily puzzles.\""
   ]
  },
  {
   "cell_type": "code",
   "execution_count": 11,
   "metadata": {},
   "outputs": [],
   "source": [
    "def get_toks(sent):\n",
    "    doc = nlp(sent)\n",
    "    sub_toks = [(tok, tok.dep_, tok.pos_) for tok in doc]\n",
    "    tok_dict = {tok.dep_: tok for tok in doc }\n",
    "    for tok in sub_toks:\n",
    "       print(tok)\n",
    "\n",
    "    # return tok_dict"
   ]
  },
  {
   "cell_type": "code",
   "execution_count": 16,
   "metadata": {},
   "outputs": [
    {
     "output_type": "stream",
     "name": "stdout",
     "text": [
      "(Dumbledore, 'nsubj', 'PROPN')\n(is, 'ROOT', 'AUX')\n(the, 'det', 'DET')\n(winner, 'attr', 'NOUN')\n(of, 'prep', 'ADP')\n(MagicDaily, 'compound', 'PROPN')\n(puzzles, 'pobj', 'NOUN')\n(., 'punct', 'PUNCT')\n"
     ]
    }
   ],
   "source": [
    "tok_dict = get_toks(sent7)"
   ]
  },
  {
   "cell_type": "code",
   "execution_count": 46,
   "metadata": {},
   "outputs": [
    {
     "output_type": "execute_result",
     "data": {
      "text/plain": [
       "'have'"
      ]
     },
     "metadata": {},
     "execution_count": 46
    }
   ],
   "source": [
    "tok_dict['ROOT'].lemma_"
   ]
  },
  {
   "cell_type": "code",
   "execution_count": 41,
   "metadata": {},
   "outputs": [
    {
     "output_type": "stream",
     "name": "stdout",
     "text": [
      "<class 'str'>\nWhat\n"
     ]
    }
   ],
   "source": [
    "x = tok_dict.get('dobj')\n",
    "print(type(str(x)))\n",
    "print(str(x))"
   ]
  },
  {
   "cell_type": "code",
   "execution_count": 14,
   "metadata": {},
   "outputs": [
    {
     "output_type": "stream",
     "name": "stdout",
     "text": [
      "(Voldemort, 'nsubj')\n(killed, 'ROOT')\n(professor, 'compound')\n(Dumblodore, 'dobj')\n(on, 'prep')\n(the, 'det')\n(top, 'pobj')\n(of, 'prep')\n(Astronomy, 'compound')\n(Tower, 'pobj')\n(., 'punct')\n"
     ]
    }
   ],
   "source": [
    "get_toks(sent2)"
   ]
  }
 ]
}