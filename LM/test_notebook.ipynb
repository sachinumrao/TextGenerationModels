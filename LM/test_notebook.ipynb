{
 "metadata": {
  "language_info": {
   "codemirror_mode": {
    "name": "ipython",
    "version": 3
   },
   "file_extension": ".py",
   "mimetype": "text/x-python",
   "name": "python",
   "nbconvert_exporter": "python",
   "pygments_lexer": "ipython3",
   "version": "3.7.9-final"
  },
  "orig_nbformat": 2,
  "kernelspec": {
   "name": "Python 3.7.9 64-bit ('torch': conda)",
   "display_name": "Python 3.7.9 64-bit ('torch': conda)",
   "metadata": {
    "interpreter": {
     "hash": "16766f77513c2dc3046cc19b80562909bfa145c129483c5120135906580f6c71"
    }
   }
  }
 },
 "nbformat": 4,
 "nbformat_minor": 2,
 "cells": [
  {
   "cell_type": "code",
   "execution_count": 3,
   "metadata": {},
   "outputs": [],
   "source": [
    "from data_processor import DataProcessor\n",
    "import pathlib"
   ]
  },
  {
   "cell_type": "code",
   "execution_count": 4,
   "metadata": {},
   "outputs": [],
   "source": [
    "input_text_path = pathlib.Path.home().joinpath('Data', 'LM_Data', 'test_script.txt')\n",
    "output_text_path = pathlib.Path.home().joinpath('Data', 'LM_Data', 'test_sentences.pkl')\n"
   ]
  },
  {
   "cell_type": "code",
   "execution_count": 5,
   "metadata": {},
   "outputs": [],
   "source": [
    "processor = DataProcessor(input_text_path, output_text_path)\n",
    "processor.read_data()\n",
    "processor.tokenize()\n"
   ]
  },
  {
   "cell_type": "code",
   "execution_count": 6,
   "metadata": {},
   "outputs": [
    {
     "output_type": "stream",
     "name": "stderr",
     "text": [
      "Cleaning:: 100%|██████████| 11/11 [00:00<00:00, 20051.00it/s]\n"
     ]
    }
   ],
   "source": [
    "filter_strings = {'\\n': ' ',\n",
    "                    '\\u3000': '',\n",
    "                    '\\xa0': '',\n",
    "                    '\\'': \"'\"}\n",
    "processor.get_clean_sentences(filter_strings, fix_contractions=True)"
   ]
  },
  {
   "cell_type": "code",
   "execution_count": 8,
   "metadata": {},
   "outputs": [
    {
     "output_type": "execute_result",
     "data": {
      "text/plain": [
       "['Many technology pundits have been theorizing and discussing the possibility of Windows eventually becoming a Linux-based operating system.',\n",
       " 'They cite the fact that Microsoft has become less dependent on Windows for revenue, making it silly to dedicate so many resources to it.',\n",
       " 'Not to mention, Microsoft has certainly cozied up to both the Linux and open source communities nowadays.',\n",
       " 'Do I think Microsoft will make this move one day?',\n",
       " 'Who knows.']"
      ]
     },
     "metadata": {},
     "execution_count": 8
    }
   ],
   "source": [
    "processor.clean_sentences[:5]"
   ]
  },
  {
   "cell_type": "code",
   "execution_count": 9,
   "metadata": {},
   "outputs": [],
   "source": [
    "processor.save_tokenized_sents()"
   ]
  },
  {
   "cell_type": "code",
   "execution_count": null,
   "metadata": {},
   "outputs": [],
   "source": []
  }
 ]
}